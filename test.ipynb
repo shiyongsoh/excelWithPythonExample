{
 "cells": [
  {
   "cell_type": "markdown",
   "metadata": {},
   "source": [
    "# pandas documentation for reading python excel spreadsheet\n",
    "###### date created: 15 April 2024\n",
    "Source: \n",
    "Pandas documentation for excel: https://pandas.pydata.org/pandas-docs/stable/reference/api/pandas.read_excel.html \n",
    "\n",
    "w3school data manipulation using dictionary in python: https://www.w3schools.com/python/python_dictionaries.asp\n",
    "\n",
    "w3school data manipulation using dictionary in python demonstration: https://www.w3schools.com/python/trypython.asp?filename=demo_dictionary\n",
    "\n",
    "w3school data manipulation using list(otherwise known as the term \"array\" in other languages): https://www.w3schools.com/python/python_lists.asp\n",
    "\n",
    "Other tutorials: https://www.squash.io/how-to-read-xlsx-file-using-pandas-library-in-python/"
   ]
  },
  {
   "cell_type": "markdown",
   "metadata": {},
   "source": [
    "This portion reads from excel"
   ]
  },
  {
   "cell_type": "code",
   "execution_count": 1,
   "metadata": {},
   "outputs": [
    {
     "name": "stdout",
     "output_type": "stream",
     "text": [
      "    Name  class                 date\n",
      "0   Name  class                 date\n",
      "1   zxvc   asdf  2024-04-15 00:00:00\n",
      "2   asdf   qwer  2024-04-16 00:00:00\n",
      "3   qwer   asdf  2024-04-16 00:00:00\n",
      "4   zxvc   qwer  2024-04-16 00:00:00\n",
      "5   sdfg   ytre  2024-04-16 00:00:00\n",
      "6   gfsd   ytre                45398\n",
      "7   dfgs   ytre                45398\n",
      "8   hgfa   ytre                45398\n",
      "9   erty   ytre                45398\n",
      "10  cvbn   ytre                45398\n",
      "11  xcvb   ytre                45398\n"
     ]
    }
   ],
   "source": [
    "import pandas as pd\n",
    "dataFromFile = pd.read_excel(\"Book1.xlsx\",\"Sheet1\",names=[\"Name\",\"class\",\"date\"])\n",
    "\n",
    "print(dataFromFile)"
   ]
  },
  {
   "cell_type": "markdown",
   "metadata": {},
   "source": [
    "#Filtering information of the excel file\n",
    "\n",
    "Assuming that the excel file you made have all the values on the top of the row your attributes and appending rows being the values, we can make our live easier by putting them in an array within the loop and sepereate it from the rest of the information like so\n"
   ]
  },
  {
   "cell_type": "code",
   "execution_count": 2,
   "metadata": {},
   "outputs": [],
   "source": [
    "attributes = {} #declare here first so that the variable will not be repeated created that can either overwrite or cause errors\n",
    "# data = {attributes:[]}\n",
    "for col in dataFromFile :\n",
    "    attributes[dataFromFile[col][0]] = None #This appends all of the first column, which is supposedly, only the name\n",
    "\n",
    "    #uncomment the code below to see why the above is written this way\n",
    "    # print(dataFromFile[col][0]) \n",
    "\n",
    "    attributes[dataFromFile[col][0]]= dataFromFile[col] #This appends all of the data to the respective name, class and date as defined in this code ````attributes[dataFromFile[col][0]]````\n",
    "    #uncomment the code below to see why the above is written this way\n",
    "    # print(dataFromFile[col][1]) \n"
   ]
  },
  {
   "cell_type": "markdown",
   "metadata": {},
   "source": [
    "Due to what we have done, we can now just show people by only their name, class or date like so:"
   ]
  },
  {
   "cell_type": "code",
   "execution_count": 3,
   "metadata": {},
   "outputs": [
    {
     "name": "stdout",
     "output_type": "stream",
     "text": [
      "0     Name\n",
      "1     zxvc\n",
      "2     asdf\n",
      "3     qwer\n",
      "4     zxvc\n",
      "5     sdfg\n",
      "6     gfsd\n",
      "7     dfgs\n",
      "8     hgfa\n",
      "9     erty\n",
      "10    cvbn\n",
      "11    xcvb\n",
      "Name: Name, dtype: object\n",
      "0     class\n",
      "1      asdf\n",
      "2      qwer\n",
      "3      asdf\n",
      "4      qwer\n",
      "5      ytre\n",
      "6      ytre\n",
      "7      ytre\n",
      "8      ytre\n",
      "9      ytre\n",
      "10     ytre\n",
      "11     ytre\n",
      "Name: class, dtype: object\n",
      "0                    date\n",
      "1     2024-04-15 00:00:00\n",
      "2     2024-04-16 00:00:00\n",
      "3     2024-04-16 00:00:00\n",
      "4     2024-04-16 00:00:00\n",
      "5     2024-04-16 00:00:00\n",
      "6                   45398\n",
      "7                   45398\n",
      "8                   45398\n",
      "9                   45398\n",
      "10                  45398\n",
      "11                  45398\n",
      "Name: date, dtype: object\n"
     ]
    }
   ],
   "source": [
    "print(attributes[\"Name\"])\n",
    "print(attributes[\"class\"])\n",
    "print(attributes[\"date\"])"
   ]
  },
  {
   "cell_type": "markdown",
   "metadata": {},
   "source": [
    "We can do procced to for example, see how many people are in one class"
   ]
  },
  {
   "cell_type": "code",
   "execution_count": 4,
   "metadata": {},
   "outputs": [
    {
     "name": "stdout",
     "output_type": "stream",
     "text": [
      "{'class': 1, 'asdf': 2, 'qwer': 2, 'ytre': 7}\n"
     ]
    }
   ],
   "source": [
    "\n",
    "classCount = {} #number of times the class showed up\n",
    "studentNamesByClass = {}\n",
    "for x in attributes[\"class\"]:\n",
    "    # print (classCount[x])\n",
    "    if x in classCount:\n",
    "        classCount[x] +=1\n",
    "    else:\n",
    "        classCount[x] = 1\n",
    "print(classCount)\n",
    "    \n"
   ]
  },
  {
   "cell_type": "markdown",
   "metadata": {},
   "source": [
    "With things like conditions, we can sort by class"
   ]
  },
  {
   "cell_type": "code",
   "execution_count": 5,
   "metadata": {},
   "outputs": [
    {
     "name": "stdout",
     "output_type": "stream",
     "text": [
      "    Name  class                 date\n",
      "1   zxvc   asdf  2024-04-15 00:00:00\n",
      "3   qwer   asdf  2024-04-16 00:00:00\n",
      "0   Name  class                 date\n",
      "2   asdf   qwer  2024-04-16 00:00:00\n",
      "4   zxvc   qwer  2024-04-16 00:00:00\n",
      "5   sdfg   ytre  2024-04-16 00:00:00\n",
      "6   gfsd   ytre                45398\n",
      "7   dfgs   ytre                45398\n",
      "8   hgfa   ytre                45398\n",
      "9   erty   ytre                45398\n",
      "10  cvbn   ytre                45398\n",
      "11  xcvb   ytre                45398\n"
     ]
    }
   ],
   "source": [
    "print(dataFromFile.sort_values(by=\"class\"))\n",
    "        "
   ]
  }
 ],
 "metadata": {
  "kernelspec": {
   "display_name": "Python 3",
   "language": "python",
   "name": "python3"
  },
  "language_info": {
   "codemirror_mode": {
    "name": "ipython",
    "version": 3
   },
   "file_extension": ".py",
   "mimetype": "text/x-python",
   "name": "python",
   "nbconvert_exporter": "python",
   "pygments_lexer": "ipython3",
   "version": "3.12.3"
  }
 },
 "nbformat": 4,
 "nbformat_minor": 2
}
